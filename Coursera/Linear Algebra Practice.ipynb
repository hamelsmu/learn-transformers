{
 "cells": [
  {
   "cell_type": "code",
   "execution_count": 3,
   "id": "valuable-think",
   "metadata": {},
   "outputs": [],
   "source": [
    "import numpy as np"
   ]
  },
  {
   "cell_type": "code",
   "execution_count": 5,
   "id": "apart-samba",
   "metadata": {},
   "outputs": [],
   "source": [
    "# number of words (n) == 2\n",
    "# number of dimensions (d) == 4\n",
    "Q = np.array([[2, 3, 4, 5],\n",
    "              [9, 1, 2, 6]])\n",
    "\n",
    "K = np.array([[3, 7, 1, 1],\n",
    "              [2, 8, 2, 3]])"
   ]
  },
  {
   "cell_type": "markdown",
   "id": "senior-campus",
   "metadata": {},
   "source": [
    "[(Q1,K1), (Q1, K2], = How to combine all the keys according to the first query\n",
    "\n",
    " [(Q2,K1) (Q2, K2)] = How to combine all the keys according to the second query"
   ]
  },
  {
   "cell_type": "code",
   "execution_count": 6,
   "id": "copyrighted-classification",
   "metadata": {},
   "outputs": [
    {
     "data": {
      "text/plain": [
       "array([[36, 51],\n",
       "       [42, 48]])"
      ]
     },
     "execution_count": 6,
     "metadata": {},
     "output_type": "execute_result"
    }
   ],
   "source": [
    "np.dot(Q, K.T)"
   ]
  },
  {
   "cell_type": "markdown",
   "id": "precious-algebra",
   "metadata": {},
   "source": [
    "If you were to do it the other way (**which wouldn't make any sense), it would look like this.  Every row would then show How to combine all the queries according to the key.\n",
    "\n",
    "[(K1, Q1), (K1, Q2)] = How to combine the queries according to the first Key\n",
    "\n",
    "[(K2, Q1), (K2, Q2)] = How to combine the queries according to the second Key"
   ]
  },
  {
   "cell_type": "code",
   "execution_count": 20,
   "id": "satisfactory-enzyme",
   "metadata": {},
   "outputs": [
    {
     "data": {
      "text/plain": [
       "array([[36, 42],\n",
       "       [51, 48]])"
      ]
     },
     "execution_count": 20,
     "metadata": {},
     "output_type": "execute_result"
    }
   ],
   "source": [
    "np.dot(K, Q.T)"
   ]
  },
  {
   "cell_type": "markdown",
   "id": "talented-magic",
   "metadata": {},
   "source": [
    "### What about if both matrices were transposed to begin with?  \n",
    "\n",
    "A: The result would mean something completely different. Q * K.T  != Q.T * K"
   ]
  },
  {
   "cell_type": "code",
   "execution_count": 21,
   "id": "catholic-curve",
   "metadata": {},
   "outputs": [
    {
     "data": {
      "text/plain": [
       "array([[24, 86, 20, 29],\n",
       "       [11, 29,  5,  6],\n",
       "       [16, 44,  8, 10],\n",
       "       [27, 83, 17, 23]])"
      ]
     },
     "execution_count": 21,
     "metadata": {},
     "output_type": "execute_result"
    }
   ],
   "source": [
    "Q.T.dot(K)"
   ]
  },
  {
   "cell_type": "code",
   "execution_count": 22,
   "id": "greenhouse-theater",
   "metadata": {},
   "outputs": [
    {
     "data": {
      "text/plain": [
       "array([[36, 51],\n",
       "       [42, 48]])"
      ]
     },
     "execution_count": 22,
     "metadata": {},
     "output_type": "execute_result"
    }
   ],
   "source": [
    "np.dot(Q, K.T)"
   ]
  },
  {
   "cell_type": "code",
   "execution_count": null,
   "id": "introductory-substance",
   "metadata": {},
   "outputs": [],
   "source": []
  }
 ],
 "metadata": {
  "kernelspec": {
   "display_name": "Python 3",
   "language": "python",
   "name": "python3"
  },
  "language_info": {
   "codemirror_mode": {
    "name": "ipython",
    "version": 3
   },
   "file_extension": ".py",
   "mimetype": "text/x-python",
   "name": "python",
   "nbconvert_exporter": "python",
   "pygments_lexer": "ipython3",
   "version": "3.8.3"
  }
 },
 "nbformat": 4,
 "nbformat_minor": 5
}
