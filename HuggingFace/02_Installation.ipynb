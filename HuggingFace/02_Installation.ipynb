{
 "cells": [
  {
   "cell_type": "markdown",
   "metadata": {},
   "source": [
    "### Location of model caches\n",
    "\n",
    "So you don't have to keep downloading pretrained models. You can set the env variable `TRANSFORMERS_CACHE` or the default is `~/.cache/huggingface`"
   ]
  },
  {
   "cell_type": "code",
   "execution_count": 5,
   "metadata": {},
   "outputs": [
    {
     "name": "stdout",
     "output_type": "stream",
     "text": [
      "total 2.0G\r\n",
      "drwx------ 2 hamelsmu users  12K Apr 27 04:59 .\r\n",
      "drwx------ 3 hamelsmu users 4.0K Apr 23 04:28 ..\r\n",
      "-rw------- 1 hamelsmu users 227K Apr 27 04:59 0e1bbfda7f63a99bb52e3915dcf10c3c92122b827d92eb2d34ce94ee79ba486c.d789d64ebfe299b0e416afc4a169632f903f693095b4629a7ea271d5a0cf2c99\r\n",
      "-rw------- 1 hamelsmu users  136 Apr 27 04:59 0e1bbfda7f63a99bb52e3915dcf10c3c92122b827d92eb2d34ce94ee79ba486c.d789d64ebfe299b0e416afc4a169632f903f693095b4629a7ea271d5a0cf2c99.json\r\n",
      "-rwx------ 1 hamelsmu users    0 Apr 27 04:59 0e1bbfda7f63a99bb52e3915dcf10c3c92122b827d92eb2d34ce94ee79ba486c.d789d64ebfe299b0e416afc4a169632f903f693095b4629a7ea271d5a0cf2c99.lock\r\n",
      "-rw------- 1 hamelsmu users  442 Apr 27 04:59 23454919702d26495337f3da04d1655c7ee010d5ec9d77bdb9e399e00302c0a1.d423bdf2f58dc8b77d5f5d18028d7ae4a72dcfd8f468e81fe979ada957a8c361\r\n",
      "-rw------- 1 hamelsmu users  138 Apr 27 04:59 23454919702d26495337f3da04d1655c7ee010d5ec9d77bdb9e399e00302c0a1.d423bdf2f58dc8b77d5f5d18028d7ae4a72dcfd8f468e81fe979ada957a8c361.json\r\n",
      "-rwx------ 1 hamelsmu users    0 Apr 27 04:59 23454919702d26495337f3da04d1655c7ee010d5ec9d77bdb9e399e00302c0a1.d423bdf2f58dc8b77d5f5d18028d7ae4a72dcfd8f468e81fe979ada957a8c361.lock\r\n",
      "-rw------- 1 hamelsmu users   39 Apr 26 21:42 4d1409805ace1b4cc209352f82a0f0c59a015433d0a58e655394ffe7bbb755e9.13a045cad07359e6844c4f487af8e6323ad2308cac6357692d2359f1a9711443\r\n"
     ]
    }
   ],
   "source": [
    "! ls /home/hamelsmu/.cache/huggingface/transformers/ -lah | head"
   ]
  },
  {
   "cell_type": "code",
   "execution_count": null,
   "metadata": {},
   "outputs": [],
   "source": []
  }
 ],
 "metadata": {
  "kernelspec": {
   "display_name": "Python 3",
   "language": "python",
   "name": "python3"
  },
  "language_info": {
   "codemirror_mode": {
    "name": "ipython",
    "version": 3
   },
   "file_extension": ".py",
   "mimetype": "text/x-python",
   "name": "python",
   "nbconvert_exporter": "python",
   "pygments_lexer": "ipython3",
   "version": "3.6.9"
  }
 },
 "nbformat": 4,
 "nbformat_minor": 2
}
