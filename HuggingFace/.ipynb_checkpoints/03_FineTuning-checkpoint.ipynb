{
 "cells": [
  {
   "cell_type": "markdown",
   "metadata": {},
   "source": [
    "### Learning Objectives\n",
    "\n",
    "From the [docs](https://huggingface.co/transformers/philosophy.html), HF's philosophy includes:\n",
    "\n",
    "Incorporate a subjective selection of promising tools for fine-tuning/investigating these models:\n",
    "\n",
    "- A simple/consistent way to add new tokens to the vocabulary and embeddings for fine-tuning.\n",
    "- Simple ways to mask and prune transformer heads\n",
    "- Switch easily between PyTorch and TensorFlow 2.0, allowing training using one framework and inference using another.\n"
   ]
  },
  {
   "cell_type": "code",
   "execution_count": null,
   "metadata": {},
   "outputs": [],
   "source": []
  }
 ],
 "metadata": {
  "kernelspec": {
   "display_name": "Python 3",
   "language": "python",
   "name": "python3"
  },
  "language_info": {
   "codemirror_mode": {
    "name": "ipython",
    "version": 3
   },
   "file_extension": ".py",
   "mimetype": "text/x-python",
   "name": "python",
   "nbconvert_exporter": "python",
   "pygments_lexer": "ipython3",
   "version": "3.7.10"
  }
 },
 "nbformat": 4,
 "nbformat_minor": 2
}
